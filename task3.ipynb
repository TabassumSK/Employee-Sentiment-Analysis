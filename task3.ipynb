{
 "cells": [
  {
   "cell_type": "code",
   "execution_count": 1,
   "id": "219044e0",
   "metadata": {},
   "outputs": [
    {
     "name": "stdout",
     "output_type": "stream",
     "text": [
      "## Monthly Sentiment Scores for Each Employee (Sample) ##\n",
      "                          from    month  monthly_sentiment_score\n",
      "0  bobette.riner@ipgdirect.com  2010-01                        0\n",
      "1  bobette.riner@ipgdirect.com  2010-02                        6\n",
      "2  bobette.riner@ipgdirect.com  2010-03                        4\n",
      "3  bobette.riner@ipgdirect.com  2010-04                        1\n",
      "4  bobette.riner@ipgdirect.com  2010-05                        2\n",
      "5  bobette.riner@ipgdirect.com  2010-06                        2\n",
      "6  bobette.riner@ipgdirect.com  2010-07                        6\n",
      "7  bobette.riner@ipgdirect.com  2010-08                       -1\n",
      "8  bobette.riner@ipgdirect.com  2010-09                        4\n",
      "9  bobette.riner@ipgdirect.com  2010-10                        2\n"
     ]
    },
    {
     "name": "stderr",
     "output_type": "stream",
     "text": [
      "C:\\Users\\Admin\\AppData\\Local\\Temp\\ipykernel_10324\\1159565326.py:19: FutureWarning: 'M' is deprecated and will be removed in a future version, please use 'ME' instead.\n",
      "  monthly_scores = df.groupby(['from', pd.Grouper(key='date', freq='M')])['score'].sum().reset_index()\n"
     ]
    }
   ],
   "source": [
    "import pandas as pd\n",
    "\n",
    "# Load the dataset with sentiment labels\n",
    "df = pd.read_csv('test_with_sentiments.csv')\n",
    "\n",
    "# Ensure 'date' is a datetime object\n",
    "df['date'] = pd.to_datetime(df['date'])\n",
    "\n",
    "# 1. Map sentiment labels to numerical scores\n",
    "score_map = {\n",
    "    'Positive': 1,\n",
    "    'Negative': -1,\n",
    "    'Neutral': 0\n",
    "}\n",
    "df['score'] = df['sentiment'].map(score_map)\n",
    "\n",
    "# 2. Group by employee and month, then sum the scores\n",
    "# The Grouper function aggregates the datetime objects by month ('M')\n",
    "monthly_scores = df.groupby(['from', pd.Grouper(key='date', freq='M')])['score'].sum().reset_index()\n",
    "\n",
    "# 3. Format the output for clarity\n",
    "monthly_scores.rename(columns={'date': 'month', 'score': 'monthly_sentiment_score'}, inplace=True)\n",
    "monthly_scores['month'] = monthly_scores['month'].dt.to_period('M')\n",
    "\n",
    "# Save the results to a new CSV file for subsequent tasks\n",
    "monthly_scores.to_csv('monthly_employee_scores.csv', index=False)\n",
    "\n",
    "# Display the first 10 rows of the resulting scores\n",
    "print(\"## Monthly Sentiment Scores for Each Employee (Sample) ##\")\n",
    "print(monthly_scores.head(10))"
   ]
  }
 ],
 "metadata": {
  "kernelspec": {
   "display_name": "Python 3",
   "language": "python",
   "name": "python3"
  },
  "language_info": {
   "codemirror_mode": {
    "name": "ipython",
    "version": 3
   },
   "file_extension": ".py",
   "mimetype": "text/x-python",
   "name": "python",
   "nbconvert_exporter": "python",
   "pygments_lexer": "ipython3",
   "version": "3.12.0"
  }
 },
 "nbformat": 4,
 "nbformat_minor": 5
}
