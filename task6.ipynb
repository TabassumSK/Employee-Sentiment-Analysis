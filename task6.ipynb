{
 "cells": [
  {
   "cell_type": "code",
   "execution_count": 1,
   "id": "232e2104",
   "metadata": {},
   "outputs": [
    {
     "name": "stdout",
     "output_type": "stream",
     "text": [
      "\n",
      "## Predictive Model Results ##\n",
      "Mean Squared Error (MSE): 2.34\n",
      "R-squared (R2) Score: 0.53\n",
      "\n",
      "Model Coefficients (Feature Importance):\n",
      "- message_count: 0.23\n",
      "- average_word_count: 0.01\n",
      "- negative_message_ratio: -4.78\n"
     ]
    },
    {
     "name": "stderr",
     "output_type": "stream",
     "text": [
      "C:\\Users\\Admin\\AppData\\Local\\Temp\\ipykernel_11540\\3868065421.py:14: FutureWarning: 'M' is deprecated and will be removed in a future version, please use 'ME' instead.\n",
      "  monthly_agg = df.groupby(['from', pd.Grouper(key='date', freq='M')]).agg(\n"
     ]
    }
   ],
   "source": [
    "import pandas as pd\n",
    "from sklearn.model_selection import train_test_split\n",
    "from sklearn.linear_model import LinearRegression\n",
    "from sklearn.metrics import mean_squared_error, r2_score\n",
    "\n",
    "# Load the sentiment-labeled data\n",
    "df = pd.read_csv('test_with_sentiments.csv')\n",
    "df['date'] = pd.to_datetime(df['date'])\n",
    "df['score'] = df['sentiment'].map({'Positive': 1, 'Negative': -1, 'Neutral': 0})\n",
    "df['word_count'] = df['body'].astype(str).apply(lambda x: len(x.split()))\n",
    "\n",
    "# --- Feature Engineering ---\n",
    "# Aggregate data by employee and month\n",
    "monthly_agg = df.groupby(['from', pd.Grouper(key='date', freq='M')]).agg(\n",
    "    monthly_sentiment_score=('score', 'sum'),\n",
    "    message_count=('body', 'count'),\n",
    "    total_word_count=('word_count', 'sum'),\n",
    "    negative_message_count=('sentiment', lambda x: (x == 'Negative').sum())\n",
    ").reset_index()\n",
    "\n",
    "# Calculate final features\n",
    "monthly_agg['average_word_count'] = monthly_agg['total_word_count'] / monthly_agg['message_count']\n",
    "monthly_agg['negative_message_ratio'] = monthly_agg['negative_message_count'] / monthly_agg['message_count']\n",
    "monthly_agg.fillna(0, inplace=True)\n",
    "\n",
    "# --- Model Building ---\n",
    "# Define features (X) and target (y)\n",
    "features = ['message_count', 'average_word_count', 'negative_message_ratio']\n",
    "X = monthly_agg[features]\n",
    "y = monthly_agg['monthly_sentiment_score']\n",
    "\n",
    "# Split data into training and testing sets\n",
    "X_train, X_test, y_train, y_test = train_test_split(X, y, test_size=0.2, random_state=42)\n",
    "\n",
    "# Initialize and train the linear regression model\n",
    "model = LinearRegression()\n",
    "model.fit(X_train, y_train)\n",
    "\n",
    "# --- Model Evaluation ---\n",
    "y_pred = model.predict(X_test)\n",
    "mse = mean_squared_error(y_test, y_pred)\n",
    "r2 = r2_score(y_test, y_pred)\n",
    "\n",
    "print(\"\\n## Predictive Model Results ##\")\n",
    "print(f\"Mean Squared Error (MSE): {mse:.2f}\")\n",
    "print(f\"R-squared (R2) Score: {r2:.2f}\")\n",
    "\n",
    "print(\"\\nModel Coefficients (Feature Importance):\")\n",
    "for feature, coef in zip(features, model.coef_):\n",
    "    print(f\"- {feature}: {coef:.2f}\")"
   ]
  }
 ],
 "metadata": {
  "kernelspec": {
   "display_name": "Python 3",
   "language": "python",
   "name": "python3"
  },
  "language_info": {
   "codemirror_mode": {
    "name": "ipython",
    "version": 3
   },
   "file_extension": ".py",
   "mimetype": "text/x-python",
   "name": "python",
   "nbconvert_exporter": "python",
   "pygments_lexer": "ipython3",
   "version": "3.12.0"
  }
 },
 "nbformat": 4,
 "nbformat_minor": 5
}
