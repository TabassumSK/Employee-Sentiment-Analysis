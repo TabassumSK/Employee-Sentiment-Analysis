{
 "cells": [
  {
   "cell_type": "code",
   "execution_count": 1,
   "id": "f45a0445",
   "metadata": {},
   "outputs": [
    {
     "name": "stdout",
     "output_type": "stream",
     "text": [
      "Sentiment labeling complete. Augmented data saved to 'test_with_sentiments.csv'\n"
     ]
    }
   ],
   "source": [
    "import pandas as pd\n",
    "import re \n",
    "\n",
    "# Load the dataset\n",
    "df = pd.read_csv('test(in).csv')\n",
    "\n",
    "# Define a simple lexicon of positive and negative words\n",
    "POSITIVE_WORDS = [\n",
    "    'thanks', 'helpful', 'pleasure', 'good', 'great', 'excellent', 'appreciate', \n",
    "    'congratulations', 'pleased', 'wonderful', 'success', 'support', 'approved',\n",
    "    'excited', 'looking forward', 'well done', 'thank you'\n",
    "]\n",
    "NEGATIVE_WORDS = [\n",
    "    'problem', 'issue', 'bad', 'difficult', 'sorry', 'unfortunately', 'complaint',\n",
    "    'error', 'failure', 'unable', 'concern', 'warning', 'missed', 'delay', 'wrong',\n",
    "    'overdue', 'denied', 'not going to work'\n",
    "]\n",
    "\n",
    "def custom_sentiment_label(text):\n",
    "    \"\"\"\n",
    "    Analyzes text using a custom lexicon and returns a sentiment label.\n",
    "    \"\"\"\n",
    "    if not isinstance(text, str):\n",
    "        return 'Neutral'\n",
    "    \n",
    "    # Normalize text to lower case\n",
    "    text_lower = text.lower()\n",
    "    \n",
    "    # Count positive and negative words\n",
    "    positive_score = sum(1 for word in POSITIVE_WORDS if word in text_lower)\n",
    "    negative_score = sum(1 for word in NEGATIVE_WORDS if word in text_lower)\n",
    "    \n",
    "    sentiment_score = positive_score - negative_score\n",
    "    \n",
    "    if sentiment_score > 0:\n",
    "        return 'Positive'\n",
    "    elif sentiment_score < 0:\n",
    "        return 'Negative'\n",
    "    else:\n",
    "        return 'Neutral'\n",
    "\n",
    "# Apply the custom function to create the 'sentiment' column\n",
    "df['sentiment'] = df['body'].apply(custom_sentiment_label)\n",
    "\n",
    "# Save the augmented DataFrame to a new CSV file\n",
    "df.to_csv('test_with_sentiments.csv', index=False)\n",
    "\n",
    "print(\"Sentiment labeling complete. Augmented data saved to 'test_with_sentiments.csv'\")"
   ]
  }
 ],
 "metadata": {
  "kernelspec": {
   "display_name": "Python 3",
   "language": "python",
   "name": "python3"
  },
  "language_info": {
   "codemirror_mode": {
    "name": "ipython",
    "version": 3
   },
   "file_extension": ".py",
   "mimetype": "text/x-python",
   "name": "python",
   "nbconvert_exporter": "python",
   "pygments_lexer": "ipython3",
   "version": "3.12.0"
  }
 },
 "nbformat": 4,
 "nbformat_minor": 5
}
