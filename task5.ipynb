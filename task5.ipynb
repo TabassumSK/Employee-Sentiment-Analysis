{
 "cells": [
  {
   "cell_type": "code",
   "execution_count": 2,
   "id": "c60979ae",
   "metadata": {},
   "outputs": [
    {
     "name": "stdout",
     "output_type": "stream",
     "text": [
      "## Employees Flagged as Flight Risk ##\n",
      "The following employees sent 4 or more negative emails in a 30-day period:\n",
      "- eric.bass@enron.com\n",
      "- rhonda.denton@enron.com\n"
     ]
    }
   ],
   "source": [
    "import pandas as pd\n",
    "\n",
    "# Load the dataset with sentiment labels\n",
    "df = pd.read_csv('test_with_sentiments.csv')\n",
    "\n",
    "# Ensure 'date' is a datetime object\n",
    "df['date'] = pd.to_datetime(df['date'])\n",
    "\n",
    "# Filter for negative emails only\n",
    "negative_emails = df[df['sentiment'] == 'Negative'].copy()\n",
    "\n",
    "# Sort by employee and date for accurate rolling calculation\n",
    "negative_emails.sort_values(by=['from', 'date'], inplace=True)\n",
    "\n",
    "# CORRECTED LINE: Replaced .size() with .count() on a column\n",
    "rolling_counts = negative_emails.groupby('from').rolling('30D', on='date')['sentiment'].count()\n",
    "\n",
    "# Filter for periods where the count is 4 or more\n",
    "flight_risk_periods = rolling_counts[rolling_counts >= 4]\n",
    "\n",
    "# Extract a unique list of employees who met this criterion\n",
    "flight_risk_employees = flight_risk_periods.index.get_level_values('from').unique().tolist()\n",
    "\n",
    "print(\"## Employees Flagged as Flight Risk ##\")\n",
    "print(\"The following employees sent 4 or more negative emails in a 30-day period:\")\n",
    "for employee in flight_risk_employees:\n",
    "    print(f\"- {employee}\")"
   ]
  }
 ],
 "metadata": {
  "kernelspec": {
   "display_name": "Python 3",
   "language": "python",
   "name": "python3"
  },
  "language_info": {
   "codemirror_mode": {
    "name": "ipython",
    "version": 3
   },
   "file_extension": ".py",
   "mimetype": "text/x-python",
   "name": "python",
   "nbconvert_exporter": "python",
   "pygments_lexer": "ipython3",
   "version": "3.12.0"
  }
 },
 "nbformat": 4,
 "nbformat_minor": 5
}
